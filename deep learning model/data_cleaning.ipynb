{
 "cells": [
  {
   "cell_type": "code",
   "execution_count": 9,
   "metadata": {},
   "outputs": [],
   "source": [
    "import pandas as pd"
   ]
  },
  {
   "cell_type": "code",
   "execution_count": 10,
   "metadata": {},
   "outputs": [],
   "source": [
    "import re\n",
    "import nltk\n",
    "from nltk.corpus import stopwords\n",
    "from nltk.stem import WordNetLemmatizer\n",
    "from nltk.corpus import wordnet"
   ]
  },
  {
   "cell_type": "code",
   "execution_count": 11,
   "metadata": {},
   "outputs": [],
   "source": [
    "def clean_data(file):\n",
    "    data = pd.read_csv('C:/Users/Admin/OneDrive/Desktop/nlp20222/data/' + file)\n",
    "    #lower, strip, remove punctuation, word tokenize\n",
    "    lst_rv = []\n",
    "    for rv in data['Text']:\n",
    "        lst_rv.append(re.sub('[^a-z ]', '', rv.lower().strip()).split())\n",
    "\n",
    "    #remove stop-words\n",
    "    lst_stop_words = stopwords.words('English')\n",
    "    for i in range(len(lst_stop_words)):\n",
    "        lst_stop_words[i] = re.sub('[^a-z ]', '', lst_stop_words[i]).lower()\n",
    "    for rv_index in range(len(lst_rv)):\n",
    "        new_rv = []\n",
    "        for word in lst_rv[rv_index]:\n",
    "            if word not in lst_stop_words:\n",
    "                new_rv.append(word)\n",
    "        lst_rv[rv_index] = new_rv\n",
    "\n",
    "    #lemmatization\n",
    "    wordnet_map = {\"N\":wordnet.NOUN, \"V\":wordnet.VERB, \"J\":wordnet.ADJ, \"R\":wordnet.ADV}\n",
    "    lemmatizer = WordNetLemmatizer()\n",
    "    for rv_index in range(len(lst_rv)):\n",
    "        lst_rv[rv_index] = ' '.join([lemmatizer.lemmatize(word, wordnet_map.get(pos[0], wordnet.NOUN)) for word, pos in nltk.pos_tag(lst_rv[rv_index])])\n",
    "    \n",
    "    data['Text'] = lst_rv\n",
    "    data.to_csv('clean_data/' + file, index=False)"
   ]
  },
  {
   "cell_type": "code",
   "execution_count": 12,
   "metadata": {},
   "outputs": [],
   "source": [
    "clean_data('Train.csv')\n",
    "clean_data('Test.csv')\n",
    "clean_data('Valid.csv')"
   ]
  },
  {
   "cell_type": "code",
   "execution_count": null,
   "metadata": {},
   "outputs": [],
   "source": []
  }
 ],
 "metadata": {
  "kernelspec": {
   "display_name": "Python 3",
   "language": "python",
   "name": "python3"
  },
  "language_info": {
   "codemirror_mode": {
    "name": "ipython",
    "version": 3
   },
   "file_extension": ".py",
   "mimetype": "text/x-python",
   "name": "python",
   "nbconvert_exporter": "python",
   "pygments_lexer": "ipython3",
   "version": "3.9.2"
  },
  "orig_nbformat": 4
 },
 "nbformat": 4,
 "nbformat_minor": 2
}
