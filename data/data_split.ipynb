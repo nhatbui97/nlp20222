{
 "cells": [
  {
   "cell_type": "code",
   "execution_count": 9,
   "metadata": {},
   "outputs": [],
   "source": [
    "import pandas as pd"
   ]
  },
  {
   "cell_type": "code",
   "execution_count": 10,
   "metadata": {},
   "outputs": [],
   "source": [
    "from sklearn.model_selection import StratifiedShuffleSplit\n",
    "#input: csv, output: 2 split csv\n",
    "def stratified_split(input_file, output_file_1, output_file_2, test_size):\n",
    "    input_data = pd.read_csv('raw data/' + input_file)\n",
    "\n",
    "    stra_split = StratifiedShuffleSplit(n_splits=1, test_size=test_size, random_state=0)\n",
    "\n",
    "    X = input_data['Text']\n",
    "    y = input_data['Score']\n",
    "\n",
    "    for fold, (train_index, test_index) in enumerate(stra_split.split(X, y)):\n",
    "        print(train_index) \n",
    "        print(test_index)\n",
    "\n",
    "    input_data.iloc[train_index][['Text', 'Score']].to_csv('raw data/' + output_file_1, index=False)\n",
    "\n",
    "    input_data.iloc[test_index][['Text', 'Score']].to_csv('raw data/' + output_file_2, index=False)"
   ]
  },
  {
   "cell_type": "code",
   "execution_count": 11,
   "metadata": {},
   "outputs": [
    {
     "name": "stdout",
     "output_type": "stream",
     "text": [
      "[227303 435025 243836 ... 351595 153287 161930]\n",
      "[559559  43457 319126 ...  31449 556405 270682]\n"
     ]
    }
   ],
   "source": [
    "stratified_split('Reviews.csv', 'Train.csv', 'Test_Valid.csv', 0.2)"
   ]
  },
  {
   "cell_type": "code",
   "execution_count": 12,
   "metadata": {},
   "outputs": [
    {
     "name": "stdout",
     "output_type": "stream",
     "text": [
      "[ 60482  88553 111392 ...  96556  91166  76331]\n",
      "[ 81383  35305  71218 ...  28017  94263 104372]\n"
     ]
    }
   ],
   "source": [
    "stratified_split('Test_Valid.csv', 'Test.csv', 'Valid.csv', 0.5)\n",
    "\n",
    "import os\n",
    "os.remove('raw data/Test_Valid.csv')"
   ]
  },
  {
   "cell_type": "code",
   "execution_count": 13,
   "metadata": {},
   "outputs": [],
   "source": [
    "train = pd.read_csv('raw data/Train.csv')"
   ]
  },
  {
   "cell_type": "code",
   "execution_count": 14,
   "metadata": {},
   "outputs": [
    {
     "data": {
      "text/plain": [
       "5    0.638790\n",
       "4    0.141885\n",
       "1    0.091947\n",
       "3    0.075010\n",
       "2    0.052368\n",
       "Name: Score, dtype: float64"
      ]
     },
     "execution_count": 14,
     "metadata": {},
     "output_type": "execute_result"
    }
   ],
   "source": [
    "train['Score'].value_counts() / len(train)"
   ]
  },
  {
   "cell_type": "code",
   "execution_count": 15,
   "metadata": {},
   "outputs": [],
   "source": [
    "test = pd.read_csv('raw data/Test.csv')"
   ]
  },
  {
   "cell_type": "code",
   "execution_count": 16,
   "metadata": {},
   "outputs": [
    {
     "data": {
      "text/plain": [
       "5    0.638790\n",
       "4    0.141877\n",
       "1    0.091952\n",
       "3    0.075011\n",
       "2    0.052370\n",
       "Name: Score, dtype: float64"
      ]
     },
     "execution_count": 16,
     "metadata": {},
     "output_type": "execute_result"
    }
   ],
   "source": [
    "test['Score'].value_counts() / len(test)"
   ]
  }
 ],
 "metadata": {
  "kernelspec": {
   "display_name": "Python 3",
   "language": "python",
   "name": "python3"
  },
  "language_info": {
   "codemirror_mode": {
    "name": "ipython",
    "version": 3
   },
   "file_extension": ".py",
   "mimetype": "text/x-python",
   "name": "python",
   "nbconvert_exporter": "python",
   "pygments_lexer": "ipython3",
   "version": "3.9.2"
  },
  "orig_nbformat": 4
 },
 "nbformat": 4,
 "nbformat_minor": 2
}
