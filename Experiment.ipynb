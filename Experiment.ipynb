{
  "nbformat": 4,
  "nbformat_minor": 0,
  "metadata": {
    "colab": {
      "provenance": [],
      "gpuType": "T4"
    },
    "kernelspec": {
      "name": "python3",
      "display_name": "Python 3"
    },
    "language_info": {
      "name": "python"
    },
    "accelerator": "GPU"
  },
  "cells": [
    {
      "cell_type": "code",
      "source": [
        "import pandas as pd"
      ],
      "metadata": {
        "id": "BZCIEqOEdA_1"
      },
      "execution_count": null,
      "outputs": []
    },
    {
      "cell_type": "code",
      "source": [
        "ds_train = pd.read_csv(\"Train.csv\")\n",
        "ds_val = pd.read_csv(\"Valid.csv\")\n",
        "ds_test = pd.read_csv(\"Test.csv\")"
      ],
      "metadata": {
        "id": "dzaXlbVic13q"
      },
      "execution_count": null,
      "outputs": []
    },
    {
      "cell_type": "code",
      "source": [
        "ds_train[\"Score\"] -= 1\n",
        "ds_val[\"Score\"] -= 1\n",
        "ds_test[\"Score\"] -= 1"
      ],
      "metadata": {
        "id": "30TzSt40-ByG"
      },
      "execution_count": null,
      "outputs": []
    },
    {
      "cell_type": "code",
      "source": [
        "def take_subset(ds_train, ds_val, percentage):\n",
        "    return ds_train[:int(ds_train.shape[0] * percentage)], ds_val[:int(ds_val.shape[0] * percentage)]"
      ],
      "metadata": {
        "id": "RvpgffSq9OY3"
      },
      "execution_count": null,
      "outputs": []
    },
    {
      "cell_type": "code",
      "source": [
        "#Take 10% of ds_train and 10% of ds_val\n",
        "ds_train, ds_val = take_subset(ds_train, ds_val, ds_test, 0.1)"
      ],
      "metadata": {
        "id": "X933aGcH9w4y"
      },
      "execution_count": null,
      "outputs": []
    },
    {
      "cell_type": "code",
      "source": [
        "#Train the model on 10% of ds_train and evaluate on 10% of ds_val\n",
        "#Choose model based on accuracy on 10% of ds_val\n",
        "#Remember to log the training time and the capacity of the model(number of parameters of the model, storage space)\n",
        "#Tune the hyperparameters and draw graphs of your choice(take the graphs of 20221 data science project as the references)"
      ],
      "metadata": {
        "id": "GENST1v4Yf0v"
      },
      "execution_count": null,
      "outputs": []
    }
  ]
}
